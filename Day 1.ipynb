{
 "cells": [
  {
   "cell_type": "code",
   "execution_count": 2,
   "metadata": {},
   "outputs": [
    {
     "name": "stdout",
     "output_type": "stream",
     "text": [
      "Hello samarth\n"
     ]
    }
   ],
   "source": [
    "print(\"Hello samarth\")"
   ]
  },
  {
   "cell_type": "code",
   "execution_count": 7,
   "metadata": {},
   "outputs": [
    {
     "name": "stdout",
     "output_type": "stream",
     "text": [
      "Hello       samarth\n"
     ]
    }
   ],
   "source": [
    "print(\"Hello \\\n",
    "      samarth\")"
   ]
  },
  {
   "cell_type": "code",
   "execution_count": 8,
   "metadata": {},
   "outputs": [
    {
     "name": "stdout",
     "output_type": "stream",
     "text": [
      "hello\t samarth\n"
     ]
    }
   ],
   "source": [
    "print(\"hello\\t samarth\")"
   ]
  },
  {
   "cell_type": "code",
   "execution_count": 9,
   "metadata": {},
   "outputs": [
    {
     "name": "stdout",
     "output_type": "stream",
     "text": [
      "Hello\n",
      "samarth\n"
     ]
    }
   ],
   "source": [
    "print(\"Hello\\nsamarth\")"
   ]
  },
  {
   "cell_type": "code",
   "execution_count": 11,
   "metadata": {},
   "outputs": [
    {
     "name": "stdout",
     "output_type": "stream",
     "text": [
      " _____$$$$_________$$$$\n",
      "___$$$$$$$$_____$$$$$$$$\n",
      "_$$$$$$$$$$$$_$$$$$$$$$$$$\n",
      "$$$$$$$$$$$$$$$$$$$$$$$$$$$\n",
      "$$$$$$$$$$$$$$$$$$$$$$$$$$$\n",
      "_$$$$$$$$$$$$$$$$$$$$$$$$$\n",
      "__$$$$$$$$$$$$$$$$$$$$$$$\n",
      "____$$$$$$$$$$$$$$$$$$$\n",
      "_______$$$$$$$$$$$$$\n",
      "__________$$$$$$$\n",
      "____________$$$\n",
      "_____________$\n",
      "\n"
     ]
    }
   ],
   "source": [
    "print(\"\"\" _____$$$$_________$$$$\n",
    "___$$$$$$$$_____$$$$$$$$\n",
    "_$$$$$$$$$$$$_$$$$$$$$$$$$\n",
    "$$$$$$$$$$$$$$$$$$$$$$$$$$$\n",
    "$$$$$$$$$$$$$$$$$$$$$$$$$$$\n",
    "_$$$$$$$$$$$$$$$$$$$$$$$$$\n",
    "__$$$$$$$$$$$$$$$$$$$$$$$\n",
    "____$$$$$$$$$$$$$$$$$$$\n",
    "_______$$$$$$$$$$$$$\n",
    "__________$$$$$$$\n",
    "____________$$$\n",
    "_____________$\n",
    "\"\"\")"
   ]
  },
  {
   "cell_type": "code",
   "execution_count": 12,
   "metadata": {},
   "outputs": [
    {
     "data": {
      "text/plain": [
       "' _____$$$$_________$$$$\\n___$$$$$$$$_____$$$$$$$$\\n_$$$$$$$$$$$$_$$$$$$$$$$$$\\n$$$$$$$$$$$$$$$$$$$$$$$$$$$\\n$$$$$$$$$$$$$$$$$$$$$$$$$$$\\n_$$$$$$$$$$$$$$$$$$$$$$$$$\\n__$$$$$$$$$$$$$$$$$$$$$$$\\n____$$$$$$$$$$$$$$$$$$$\\n_______$$$$$$$$$$$$$\\n__________$$$$$$$\\n____________$$$\\n_____________$\\n'"
      ]
     },
     "execution_count": 12,
     "metadata": {},
     "output_type": "execute_result"
    }
   ],
   "source": [
    "\"\"\" _____$$$$_________$$$$\n",
    "___$$$$$$$$_____$$$$$$$$\n",
    "_$$$$$$$$$$$$_$$$$$$$$$$$$\n",
    "$$$$$$$$$$$$$$$$$$$$$$$$$$$\n",
    "$$$$$$$$$$$$$$$$$$$$$$$$$$$\n",
    "_$$$$$$$$$$$$$$$$$$$$$$$$$\n",
    "__$$$$$$$$$$$$$$$$$$$$$$$\n",
    "____$$$$$$$$$$$$$$$$$$$\n",
    "_______$$$$$$$$$$$$$\n",
    "__________$$$$$$$\n",
    "____________$$$\n",
    "_____________$\n",
    "\"\"\""
   ]
  },
  {
   "cell_type": "code",
   "execution_count": 13,
   "metadata": {},
   "outputs": [
    {
     "name": "stdout",
     "output_type": "stream",
     "text": [
      "hi's samarth\n"
     ]
    }
   ],
   "source": [
    "print(\"hi's samarth\")"
   ]
  },
  {
   "cell_type": "code",
   "execution_count": 14,
   "metadata": {},
   "outputs": [
    {
     "name": "stdout",
     "output_type": "stream",
     "text": [
      "Hello samarth\n"
     ]
    }
   ],
   "source": [
    "print('Hello samarth')"
   ]
  },
  {
   "cell_type": "code",
   "execution_count": 16,
   "metadata": {},
   "outputs": [
    {
     "name": "stdout",
     "output_type": "stream",
     "text": [
      "My name is samarth my age is 21 i study in engineering\n"
     ]
    }
   ],
   "source": [
    "name=\"samarth\"\n",
    "age=21\n",
    "study=\"engineering\"\n",
    "print(\"My name is\",name,\"my age is\",age,\"i study in\",study)"
   ]
  },
  {
   "cell_type": "code",
   "execution_count": 21,
   "metadata": {},
   "outputs": [
    {
     "name": "stdout",
     "output_type": "stream",
     "text": [
      "My name is samarth my age is 21 i study in engineering\n"
     ]
    }
   ],
   "source": [
    "print(\"My name is %s my age is %d i study in %s\"%(name,age,study))"
   ]
  },
  {
   "cell_type": "code",
   "execution_count": 27,
   "metadata": {},
   "outputs": [
    {
     "name": "stdout",
     "output_type": "stream",
     "text": [
      "my name is samarth my age is 21 i study in engineering\n"
     ]
    }
   ],
   "source": [
    "print(f\"my name is {name} my age is {21} i study in {study}\")"
   ]
  },
  {
   "cell_type": "markdown",
   "metadata": {},
   "source": [
    "\n"
   ]
  },
  {
   "cell_type": "code",
   "execution_count": 28,
   "metadata": {},
   "outputs": [
    {
     "data": {
      "text/plain": [
       "3125"
      ]
     },
     "execution_count": 28,
     "metadata": {},
     "output_type": "execute_result"
    }
   ],
   "source": [
    "5**5"
   ]
  },
  {
   "cell_type": "code",
   "execution_count": 29,
   "metadata": {},
   "outputs": [
    {
     "data": {
      "text/plain": [
       "20"
      ]
     },
     "execution_count": 29,
     "metadata": {},
     "output_type": "execute_result"
    }
   ],
   "source": [
    "10+10\n"
   ]
  },
  {
   "cell_type": "code",
   "execution_count": 30,
   "metadata": {},
   "outputs": [
    {
     "data": {
      "text/plain": [
       "19"
      ]
     },
     "execution_count": 30,
     "metadata": {},
     "output_type": "execute_result"
    }
   ],
   "source": [
    "25-6"
   ]
  },
  {
   "cell_type": "code",
   "execution_count": 31,
   "metadata": {},
   "outputs": [
    {
     "data": {
      "text/plain": [
       "10.0"
      ]
     },
     "execution_count": 31,
     "metadata": {},
     "output_type": "execute_result"
    }
   ],
   "source": [
    "20/2"
   ]
  },
  {
   "cell_type": "code",
   "execution_count": 32,
   "metadata": {},
   "outputs": [
    {
     "data": {
      "text/plain": [
       "0"
      ]
     },
     "execution_count": 32,
     "metadata": {},
     "output_type": "execute_result"
    }
   ],
   "source": [
    "20%2"
   ]
  },
  {
   "cell_type": "code",
   "execution_count": 33,
   "metadata": {},
   "outputs": [
    {
     "data": {
      "text/plain": [
       "3"
      ]
     },
     "execution_count": 33,
     "metadata": {},
     "output_type": "execute_result"
    }
   ],
   "source": [
    "20//6"
   ]
  },
  {
   "cell_type": "code",
   "execution_count": 35,
   "metadata": {},
   "outputs": [
    {
     "data": {
      "text/plain": [
       "False"
      ]
     },
     "execution_count": 35,
     "metadata": {},
     "output_type": "execute_result"
    }
   ],
   "source": [
    "a=10\n",
    "b=20\n",
    "a==b"
   ]
  },
  {
   "cell_type": "code",
   "execution_count": 36,
   "metadata": {},
   "outputs": [
    {
     "data": {
      "text/plain": [
       "False"
      ]
     },
     "execution_count": 36,
     "metadata": {},
     "output_type": "execute_result"
    }
   ],
   "source": [
    "a>b"
   ]
  },
  {
   "cell_type": "code",
   "execution_count": 37,
   "metadata": {},
   "outputs": [
    {
     "data": {
      "text/plain": [
       "False"
      ]
     },
     "execution_count": 37,
     "metadata": {},
     "output_type": "execute_result"
    }
   ],
   "source": [
    "a>=b"
   ]
  },
  {
   "cell_type": "code",
   "execution_count": 38,
   "metadata": {},
   "outputs": [
    {
     "data": {
      "text/plain": [
       "True"
      ]
     },
     "execution_count": 38,
     "metadata": {},
     "output_type": "execute_result"
    }
   ],
   "source": [
    "a<b"
   ]
  },
  {
   "cell_type": "code",
   "execution_count": 39,
   "metadata": {},
   "outputs": [
    {
     "data": {
      "text/plain": [
       "True"
      ]
     },
     "execution_count": 39,
     "metadata": {},
     "output_type": "execute_result"
    }
   ],
   "source": [
    "a<=b"
   ]
  },
  {
   "cell_type": "code",
   "execution_count": 40,
   "metadata": {},
   "outputs": [
    {
     "data": {
      "text/plain": [
       "True"
      ]
     },
     "execution_count": 40,
     "metadata": {},
     "output_type": "execute_result"
    }
   ],
   "source": [
    "a!=b"
   ]
  },
  {
   "cell_type": "code",
   "execution_count": null,
   "metadata": {},
   "outputs": [],
   "source": [
    "\n"
   ]
  },
  {
   "cell_type": "code",
   "execution_count": null,
   "metadata": {},
   "outputs": [],
   "source": []
  }
 ],
 "metadata": {
  "kernelspec": {
   "display_name": "Python 3",
   "language": "python",
   "name": "python3"
  },
  "language_info": {
   "codemirror_mode": {
    "name": "ipython",
    "version": 3
   },
   "file_extension": ".py",
   "mimetype": "text/x-python",
   "name": "python",
   "nbconvert_exporter": "python",
   "pygments_lexer": "ipython3",
   "version": "3.7.6"
  }
 },
 "nbformat": 4,
 "nbformat_minor": 4
}
